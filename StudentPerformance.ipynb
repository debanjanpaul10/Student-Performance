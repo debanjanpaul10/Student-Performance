{
 "cells": [
  {
   "cell_type": "markdown",
   "id": "sustainable-policy",
   "metadata": {},
   "source": [
    "<h1>Student Performace</h1>"
   ]
  },
  {
   "cell_type": "markdown",
   "id": "intermediate-minutes",
   "metadata": {},
   "source": [
    "<h3>Question</h3>\n",
    "Student performance was measured based on maths, reading and writing score. What are the major factors influencing the test scores? How do you measure the effectiveness of a test preparation course?"
   ]
  },
  {
   "cell_type": "markdown",
   "id": "psychological-blend",
   "metadata": {},
   "source": [
    "Importing libraries"
   ]
  },
  {
   "cell_type": "code",
   "execution_count": 1,
   "id": "minute-treasury",
   "metadata": {},
   "outputs": [],
   "source": [
    "import pandas as pd\n",
    "import matplotlib.pyplot as plt\n",
    "import numpy as np\n",
    "from matplotlib.figure import Figure"
   ]
  },
  {
   "cell_type": "markdown",
   "id": "decent-diana",
   "metadata": {},
   "source": [
    "Importing the dataset"
   ]
  },
  {
   "cell_type": "code",
   "execution_count": 2,
   "id": "effective-search",
   "metadata": {},
   "outputs": [],
   "source": [
    "stData = pd.read_csv(r'StudentsPerformance.csv')"
   ]
  },
  {
   "cell_type": "markdown",
   "id": "rental-candy",
   "metadata": {},
   "source": [
    "The first 5 data in the dataset"
   ]
  },
  {
   "cell_type": "code",
   "execution_count": 3,
   "id": "constant-macintosh",
   "metadata": {},
   "outputs": [
    {
     "data": {
      "text/html": [
       "<div>\n",
       "<style scoped>\n",
       "    .dataframe tbody tr th:only-of-type {\n",
       "        vertical-align: middle;\n",
       "    }\n",
       "\n",
       "    .dataframe tbody tr th {\n",
       "        vertical-align: top;\n",
       "    }\n",
       "\n",
       "    .dataframe thead th {\n",
       "        text-align: right;\n",
       "    }\n",
       "</style>\n",
       "<table border=\"1\" class=\"dataframe\">\n",
       "  <thead>\n",
       "    <tr style=\"text-align: right;\">\n",
       "      <th></th>\n",
       "      <th>gender</th>\n",
       "      <th>race/ethnicity</th>\n",
       "      <th>parental level of education</th>\n",
       "      <th>lunch</th>\n",
       "      <th>test preparation course</th>\n",
       "      <th>math score</th>\n",
       "      <th>reading score</th>\n",
       "      <th>writing score</th>\n",
       "      <th>average score</th>\n",
       "    </tr>\n",
       "  </thead>\n",
       "  <tbody>\n",
       "    <tr>\n",
       "      <th>0</th>\n",
       "      <td>female</td>\n",
       "      <td>group B</td>\n",
       "      <td>bachelor's degree</td>\n",
       "      <td>standard</td>\n",
       "      <td>none</td>\n",
       "      <td>72</td>\n",
       "      <td>72</td>\n",
       "      <td>74</td>\n",
       "      <td>72.67</td>\n",
       "    </tr>\n",
       "    <tr>\n",
       "      <th>1</th>\n",
       "      <td>female</td>\n",
       "      <td>group C</td>\n",
       "      <td>some college</td>\n",
       "      <td>standard</td>\n",
       "      <td>completed</td>\n",
       "      <td>69</td>\n",
       "      <td>90</td>\n",
       "      <td>88</td>\n",
       "      <td>82.33</td>\n",
       "    </tr>\n",
       "    <tr>\n",
       "      <th>2</th>\n",
       "      <td>female</td>\n",
       "      <td>group B</td>\n",
       "      <td>master's degree</td>\n",
       "      <td>standard</td>\n",
       "      <td>none</td>\n",
       "      <td>90</td>\n",
       "      <td>95</td>\n",
       "      <td>93</td>\n",
       "      <td>92.67</td>\n",
       "    </tr>\n",
       "    <tr>\n",
       "      <th>3</th>\n",
       "      <td>male</td>\n",
       "      <td>group A</td>\n",
       "      <td>associate's degree</td>\n",
       "      <td>free/reduced</td>\n",
       "      <td>none</td>\n",
       "      <td>47</td>\n",
       "      <td>57</td>\n",
       "      <td>44</td>\n",
       "      <td>49.33</td>\n",
       "    </tr>\n",
       "    <tr>\n",
       "      <th>4</th>\n",
       "      <td>male</td>\n",
       "      <td>group C</td>\n",
       "      <td>some college</td>\n",
       "      <td>standard</td>\n",
       "      <td>none</td>\n",
       "      <td>76</td>\n",
       "      <td>78</td>\n",
       "      <td>75</td>\n",
       "      <td>76.33</td>\n",
       "    </tr>\n",
       "  </tbody>\n",
       "</table>\n",
       "</div>"
      ],
      "text/plain": [
       "   gender race/ethnicity parental level of education         lunch  \\\n",
       "0  female        group B           bachelor's degree      standard   \n",
       "1  female        group C                some college      standard   \n",
       "2  female        group B             master's degree      standard   \n",
       "3    male        group A          associate's degree  free/reduced   \n",
       "4    male        group C                some college      standard   \n",
       "\n",
       "  test preparation course  math score  reading score  writing score  \\\n",
       "0                    none          72             72             74   \n",
       "1               completed          69             90             88   \n",
       "2                    none          90             95             93   \n",
       "3                    none          47             57             44   \n",
       "4                    none          76             78             75   \n",
       "\n",
       "   average score  \n",
       "0          72.67  \n",
       "1          82.33  \n",
       "2          92.67  \n",
       "3          49.33  \n",
       "4          76.33  "
      ]
     },
     "execution_count": 3,
     "metadata": {},
     "output_type": "execute_result"
    }
   ],
   "source": [
    "stData.head()"
   ]
  },
  {
   "cell_type": "markdown",
   "id": "handed-degree",
   "metadata": {},
   "source": [
    "<h1>Data based on Parental Level of Education<h1>"
   ]
  },
  {
   "cell_type": "code",
   "execution_count": 4,
   "id": "growing-astronomy",
   "metadata": {},
   "outputs": [
    {
     "name": "stdout",
     "output_type": "stream",
     "text": [
      "parental level of education\n",
      "associate's degree    69.57\n",
      "bachelor's degree     71.92\n",
      "high school           63.10\n",
      "master's degree       73.60\n",
      "some college          68.48\n",
      "some high school      65.11\n",
      "Name: average score, dtype: float64\n"
     ]
    }
   ],
   "source": [
    "set1 = stData.groupby(['parental level of education'])['average score'].mean().round(2)\n",
    "print(set1)"
   ]
  },
  {
   "cell_type": "markdown",
   "id": "raising-hacker",
   "metadata": {},
   "source": [
    "Plotting the data"
   ]
  },
  {
   "cell_type": "code",
   "execution_count": 5,
   "id": "hairy-scenario",
   "metadata": {},
   "outputs": [
    {
     "data": {
      "image/png": "[encoded data removed]",
      "text/plain": [
       "<Figure size 432x288 with 1 Axes>"
      ]
     },
     "metadata": {
      "needs_background": "light"
     },
     "output_type": "display_data"
    }
   ],
   "source": [
    "set1.plot(kind='bar', x='parental level of education', y='average score')\n",
    "plt.ylabel('Average Score')\n",
    "plt.title('Parental level of education based marks distribution')\n",
    "plt.show()"
   ]
  },
  {
   "cell_type": "markdown",
   "id": "paperback-priest",
   "metadata": {},
   "source": [
    "<h1>Data based on Lunch"
   ]
  },
  {
   "cell_type": "code",
   "execution_count": 6,
   "id": "terminal-desert",
   "metadata": {},
   "outputs": [
    {
     "name": "stdout",
     "output_type": "stream",
     "text": [
      "lunch\n",
      "free/reduced    62.20\n",
      "standard        70.84\n",
      "Name: average score, dtype: float64\n"
     ]
    }
   ],
   "source": [
    "set2 = stData.groupby(['lunch'])['average score'].mean().round(2)\n",
    "print(set2)"
   ]
  },
  {
   "cell_type": "markdown",
   "id": "alpine-nashville",
   "metadata": {},
   "source": [
    "Plotting the data"
   ]
  },
  {
   "cell_type": "code",
   "execution_count": 7,
   "id": "standard-validation",
   "metadata": {},
   "outputs": [
    {
     "data": {
      "image/png": "[encoded data removed]",
      "text/plain": [
       "<Figure size 432x288 with 1 Axes>"
      ]
     },
     "metadata": {
      "needs_background": "light"
     },
     "output_type": "display_data"
    }
   ],
   "source": [
    "set2.plot(kind='bar', x='lunch', y='average score')\n",
    "plt.ylabel('Average Score')\n",
    "plt.title('Lunch based marks distribution')\n",
    "plt.show()"
   ]
  },
  {
   "cell_type": "markdown",
   "id": "behind-clinic",
   "metadata": {},
   "source": [
    "<h1>Data based on Test Preparation</h1>"
   ]
  },
  {
   "cell_type": "code",
   "execution_count": 8,
   "id": "dynamic-gates",
   "metadata": {},
   "outputs": [
    {
     "name": "stdout",
     "output_type": "stream",
     "text": [
      "test preparation course\n",
      "completed    72.67\n",
      "none         65.04\n",
      "Name: average score, dtype: float64\n"
     ]
    }
   ],
   "source": [
    "set3 = stData.groupby(['test preparation course'])['average score'].mean().round(2)\n",
    "print(set3)"
   ]
  },
  {
   "cell_type": "markdown",
   "id": "animal-secret",
   "metadata": {},
   "source": [
    "Plotting the data"
   ]
  },
  {
   "cell_type": "code",
   "execution_count": 9,
   "id": "prescribed-company",
   "metadata": {},
   "outputs": [
    {
     "data": {
      "image/png": "[encoded data removed]",
      "text/plain": [
       "<Figure size 432x288 with 1 Axes>"
      ]
     },
     "metadata": {
      "needs_background": "light"
     },
     "output_type": "display_data"
    }
   ],
   "source": [
    "set3.plot(kind='bar', x='test preparation course', y='average score')\n",
    "plt.ylabel('Average Score')\n",
    "plt.title('Test Preparation of the course-wise marks distribution')\n",
    "plt.show()"
   ]
  },
  {
   "cell_type": "markdown",
   "id": "coupled-credits",
   "metadata": {},
   "source": [
    "<h1>Data based on Race/Ethnicity</h1>"
   ]
  },
  {
   "cell_type": "code",
   "execution_count": 10,
   "id": "congressional-morocco",
   "metadata": {},
   "outputs": [
    {
     "name": "stdout",
     "output_type": "stream",
     "text": [
      "race/ethnicity\n",
      "group A    62.99\n",
      "group B    65.47\n",
      "group C    67.13\n",
      "group D    69.18\n",
      "group E    72.75\n",
      "Name: average score, dtype: float64\n"
     ]
    }
   ],
   "source": [
    "set4 = stData.groupby(['race/ethnicity'])['average score'].mean().round(2)\n",
    "print(set4)"
   ]
  },
  {
   "cell_type": "markdown",
   "id": "bright-treasure",
   "metadata": {},
   "source": [
    "Plotting the data"
   ]
  },
  {
   "cell_type": "code",
   "execution_count": 11,
   "id": "specified-vietnam",
   "metadata": {},
   "outputs": [
    {
     "data": {
      "image/png": "[encoded data removed]",
      "text/plain": [
       "<Figure size 432x288 with 1 Axes>"
      ]
     },
     "metadata": {
      "needs_background": "light"
     },
     "output_type": "display_data"
    }
   ],
   "source": [
    "set4.plot(kind='bar', x='race/ethnicity', y='average score')\n",
    "plt.ylabel('Average Score')\n",
    "plt.title('Race/Ethnicity based marks distribution')\n",
    "plt.show()"
   ]
  },
  {
   "cell_type": "markdown",
   "id": "included-bulgaria",
   "metadata": {},
   "source": [
    "<h1>Data based on Gender</h1>"
   ]
  },
  {
   "cell_type": "code",
   "execution_count": 12,
   "id": "equal-bacteria",
   "metadata": {},
   "outputs": [
    {
     "name": "stdout",
     "output_type": "stream",
     "text": [
      "gender\n",
      "female    69.57\n",
      "male      65.84\n",
      "Name: average score, dtype: float64\n"
     ]
    }
   ],
   "source": [
    "set5 = stData.groupby(['gender'])['average score'].mean().round(2)\n",
    "print(set5)"
   ]
  },
  {
   "cell_type": "code",
   "execution_count": 14,
   "id": "boxed-matter",
   "metadata": {},
   "outputs": [
    {
     "data": {
      "image/png": "[encoded data removed]",
      "text/plain": [
       "<Figure size 432x288 with 1 Axes>"
      ]
     },
     "metadata": {
      "needs_background": "light"
     },
     "output_type": "display_data"
    }
   ],
   "source": [
    "set5.plot(kind='bar', x='gender', y='average score')\n",
    "plt.ylabel('Average Score')\n",
    "plt.title('Gender based marks distribution')\n",
    "plt.show()"
   ]
  },
  {
   "cell_type": "markdown",
   "id": "crazy-music",
   "metadata": {},
   "source": [
    "<hr />"
   ]
  }
 ],
 "metadata": {
  "kernelspec": {
   "display_name": "Python 3",
   "language": "python",
   "name": "python3"
  },
  "language_info": {
   "codemirror_mode": {
    "name": "ipython",
    "version": 3
   },
   "file_extension": ".py",
   "mimetype": "text/x-python",
   "name": "python",
   "nbconvert_exporter": "python",
   "pygments_lexer": "ipython3",
   "version": "3.8.7"
  }
 },
 "nbformat": 4,
 "nbformat_minor": 5
}
